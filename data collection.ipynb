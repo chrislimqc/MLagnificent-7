{
 "cells": [
  {
   "cell_type": "markdown",
   "metadata": {},
   "source": [
    "Main Notebook, analysis will be done here\n",
    "Plan for data analysis is:\n",
    "for each company\n",
    "    1.collect raw text for each indicator category (1.news 2. analyst 3.social media (X))\n",
    "    2.for each text, run natural language processor to figure out if sentiment is positive or negative\n",
    "    3.for each day of sentiment, plot against each day of price action: up or down \n",
    "    4.find correlation for each caterogry\n",
    "    5.maybe try plot multi categorical correlation\n",
    "    6.see if it can predict live price action\n",
    "\n",
    "timeframe, find correlation within the week, (weekend news to track price action from monday to friday)\n",
    "To start, try to collect raw text"
   ]
  },
  {
   "cell_type": "markdown",
   "metadata": {},
   "source": [
    "    RAW text collection:\n",
    "\n",
    "    3 main sources,\n",
    "        1. Social : twitter (find all tweets from accounts with followers more than 100k, mention M7)\n",
    "        2. News : scrape bloomberg/Reuters/wall street Journal\n",
    "        3. Analyst : idk yet\n"
   ]
  },
  {
   "cell_type": "code",
   "execution_count": null,
   "metadata": {},
   "outputs": [],
   "source": []
  },
  {
   "cell_type": "markdown",
   "metadata": {},
   "source": [
    "TRY scrape TWITTER\n",
    "currently api is no longer free rip need find another way"
   ]
  },
  {
   "cell_type": "code",
   "execution_count": 3,
   "metadata": {},
   "outputs": [],
   "source": []
  }
 ],
 "metadata": {
  "kernelspec": {
   "display_name": "base",
   "language": "python",
   "name": "python3"
  },
  "language_info": {
   "codemirror_mode": {
    "name": "ipython",
    "version": 3
   },
   "file_extension": ".py",
   "mimetype": "text/x-python",
   "name": "python",
   "nbconvert_exporter": "python",
   "pygments_lexer": "ipython3",
   "version": "3.8.18"
  }
 },
 "nbformat": 4,
 "nbformat_minor": 2
}
