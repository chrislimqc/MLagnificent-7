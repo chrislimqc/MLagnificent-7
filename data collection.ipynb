{
 "cells": [
  {
   "cell_type": "markdown",
   "metadata": {},
   "source": [
    "Main Notebook, analysis will be done here\n",
    "Plan for data analysis is:\n",
    "for each company\n",
    "    1.collect raw text for each indicator category (1.news 2. analyst 3.social media (X))\n",
    "    2.for each text, run natural language processor to figure out if sentiment is positive or negative\n",
    "    3.for each day of sentiment, plot against each day of price action: up or down \n",
    "    4.find correlation for each caterogry\n",
    "    5.maybe try plot multi categorical correlation\n",
    "    6.see if it can predict live price action\n",
    "\n",
    "timeframe, find correlation within the week, (weekend news to track price action from monday to friday)\n",
    "To start, try to collect raw text"
   ]
  },
  {
   "cell_type": "markdown",
   "metadata": {},
   "source": [
    "#    RAW text collection:\n",
    "\n",
    "    3 main sources,\n",
    "        1. Social : twitter (find all tweets from accounts with followers more than 100k, mention M7)\n",
    "        2. News : scrape bloomberg/Reuters/wall street Journal\n",
    "        3. Analyst : idk yet\n"
   ]
  },
  {
   "cell_type": "code",
   "execution_count": null,
   "metadata": {},
   "outputs": [
    {
     "ename": "",
     "evalue": "",
     "output_type": "error",
     "traceback": [
      "\u001b[1;31mRunning cells with 'c:\\Python311\\python.exe' requires the ipykernel package.\n",
      "\u001b[1;31mRun the following command to install 'ipykernel' into the Python environment. \n",
      "\u001b[1;31mCommand: 'c:/Python311/python.exe -m pip install ipykernel -U --user --force-reinstall'"
     ]
    }
   ],
   "source": []
  },
  {
   "cell_type": "markdown",
   "metadata": {},
   "source": [
    "TRY scrape TWITTER\n",
    "currently api is no longer free rip need find another way"
   ]
  },
  {
   "cell_type": "markdown",
   "metadata": {},
   "source": [
    "# Sentiment Analysis\n",
    "\n",
    "Try use hugging face or Valence aware dictionary for sentiment reasoning (VADER) \n",
    "\n",
    "https://huggingface.co/blog/sentiment-analysis-python\n",
    "https://huggingface.co/models\n",
    "\n",
    "https://www.google.com/search?q=vader+rule+based+classifier&oq=vader+rule+based+classifier&gs_lcrp=EgZjaHJvbWUyBggAEEUYOdIBCDgyMzVqMGoxqAIAsAIA&sourceid=chrome&ie=UTF-8"
   ]
  },
  {
   "cell_type": "code",
   "execution_count": null,
   "metadata": {
    "vscode": {
     "languageId": "powershell"
    }
   },
   "outputs": [
    {
     "ename": "",
     "evalue": "",
     "output_type": "error",
     "traceback": [
      "\u001b[1;31mRunning cells with 'c:\\Python311\\python.exe' requires the ipykernel package.\n",
      "\u001b[1;31mRun the following command to install 'ipykernel' into the Python environment. \n",
      "\u001b[1;31mCommand: 'c:/Python311/python.exe -m pip install ipykernel -U --user --force-reinstall'"
     ]
    }
   ],
   "source": [
    "pip install transformers\n"
   ]
  }
 ],
 "metadata": {
  "kernelspec": {
   "display_name": "base",
   "language": "python",
   "name": "python3"
  },
  "language_info": {
   "codemirror_mode": {
    "name": "ipython",
    "version": 3
   },
   "file_extension": ".py",
   "mimetype": "text/x-python",
   "name": "python",
   "nbconvert_exporter": "python",
   "pygments_lexer": "ipython3",
   "version": "3.11.4"
  }
 },
 "nbformat": 4,
 "nbformat_minor": 2
}
